{
 "cells": [
  {
   "cell_type": "code",
   "execution_count": 1,
   "id": "575db1f1-ea7e-4ebf-85aa-57907a6fbfc6",
   "metadata": {},
   "outputs": [],
   "source": [
    "import pandas as pd\n",
    "import os"
   ]
  },
  {
   "cell_type": "code",
   "execution_count": 2,
   "id": "a7e7bc24-a903-4ed0-ba44-afae9015e479",
   "metadata": {},
   "outputs": [],
   "source": [
    "import numpy as np\n",
    "import plotly.express as px\n",
    "import pickle"
   ]
  },
  {
   "cell_type": "code",
   "execution_count": 3,
   "id": "5a0cc1f6-9428-43a3-b3bf-2ecf7a17c81c",
   "metadata": {},
   "outputs": [],
   "source": [
    "dfEx = pd.read_csv('gender_submission_eg.csv')\n",
    "dfTest = pd.read_csv('test.csv')\n",
    "dfTrain = pd.read_csv('train.csv')"
   ]
  },
  {
   "cell_type": "code",
   "execution_count": 4,
   "id": "29220fca-2785-4659-a426-53d9306d9970",
   "metadata": {},
   "outputs": [
    {
     "data": {
      "text/html": [
       "<div>\n",
       "<style scoped>\n",
       "    .dataframe tbody tr th:only-of-type {\n",
       "        vertical-align: middle;\n",
       "    }\n",
       "\n",
       "    .dataframe tbody tr th {\n",
       "        vertical-align: top;\n",
       "    }\n",
       "\n",
       "    .dataframe thead th {\n",
       "        text-align: right;\n",
       "    }\n",
       "</style>\n",
       "<table border=\"1\" class=\"dataframe\">\n",
       "  <thead>\n",
       "    <tr style=\"text-align: right;\">\n",
       "      <th></th>\n",
       "      <th>PassengerId</th>\n",
       "      <th>Survived</th>\n",
       "    </tr>\n",
       "  </thead>\n",
       "  <tbody>\n",
       "    <tr>\n",
       "      <th>0</th>\n",
       "      <td>892</td>\n",
       "      <td>0</td>\n",
       "    </tr>\n",
       "    <tr>\n",
       "      <th>1</th>\n",
       "      <td>893</td>\n",
       "      <td>1</td>\n",
       "    </tr>\n",
       "    <tr>\n",
       "      <th>2</th>\n",
       "      <td>894</td>\n",
       "      <td>0</td>\n",
       "    </tr>\n",
       "    <tr>\n",
       "      <th>3</th>\n",
       "      <td>895</td>\n",
       "      <td>0</td>\n",
       "    </tr>\n",
       "    <tr>\n",
       "      <th>4</th>\n",
       "      <td>896</td>\n",
       "      <td>1</td>\n",
       "    </tr>\n",
       "    <tr>\n",
       "      <th>...</th>\n",
       "      <td>...</td>\n",
       "      <td>...</td>\n",
       "    </tr>\n",
       "    <tr>\n",
       "      <th>413</th>\n",
       "      <td>1305</td>\n",
       "      <td>0</td>\n",
       "    </tr>\n",
       "    <tr>\n",
       "      <th>414</th>\n",
       "      <td>1306</td>\n",
       "      <td>1</td>\n",
       "    </tr>\n",
       "    <tr>\n",
       "      <th>415</th>\n",
       "      <td>1307</td>\n",
       "      <td>0</td>\n",
       "    </tr>\n",
       "    <tr>\n",
       "      <th>416</th>\n",
       "      <td>1308</td>\n",
       "      <td>0</td>\n",
       "    </tr>\n",
       "    <tr>\n",
       "      <th>417</th>\n",
       "      <td>1309</td>\n",
       "      <td>0</td>\n",
       "    </tr>\n",
       "  </tbody>\n",
       "</table>\n",
       "<p>418 rows × 2 columns</p>\n",
       "</div>"
      ],
      "text/plain": [
       "     PassengerId  Survived\n",
       "0            892         0\n",
       "1            893         1\n",
       "2            894         0\n",
       "3            895         0\n",
       "4            896         1\n",
       "..           ...       ...\n",
       "413         1305         0\n",
       "414         1306         1\n",
       "415         1307         0\n",
       "416         1308         0\n",
       "417         1309         0\n",
       "\n",
       "[418 rows x 2 columns]"
      ]
     },
     "execution_count": 4,
     "metadata": {},
     "output_type": "execute_result"
    }
   ],
   "source": [
    "dfEx"
   ]
  },
  {
   "cell_type": "code",
   "execution_count": 5,
   "id": "f02c2fbb-2cff-4ea4-a097-19bde8078cc9",
   "metadata": {
    "scrolled": true
   },
   "outputs": [
    {
     "data": {
      "text/plain": [
       "PassengerId      0\n",
       "Survived         0\n",
       "Pclass           0\n",
       "Name             0\n",
       "Sex              0\n",
       "Age            177\n",
       "SibSp            0\n",
       "Parch            0\n",
       "Ticket           0\n",
       "Fare             0\n",
       "Cabin          687\n",
       "Embarked         2\n",
       "dtype: int64"
      ]
     },
     "execution_count": 5,
     "metadata": {},
     "output_type": "execute_result"
    }
   ],
   "source": [
    "dfTrain.isnull().sum()"
   ]
  },
  {
   "cell_type": "markdown",
   "id": "5996d87c-a0d5-48e4-ab7c-be265a03b69d",
   "metadata": {},
   "source": [
    "<h1>Tratamento de idades nulas</h1>"
   ]
  },
  {
   "cell_type": "markdown",
   "id": "b6cbd8f6-afea-43f8-8206-6d0a62bebc4e",
   "metadata": {},
   "source": [
    "<h2>Train</h2>"
   ]
  },
  {
   "cell_type": "code",
   "execution_count": 6,
   "id": "a8d4d135-ace3-4ce1-9227-1a6688efe017",
   "metadata": {},
   "outputs": [
    {
     "data": {
      "text/plain": [
       "29.69911764705882"
      ]
     },
     "execution_count": 6,
     "metadata": {},
     "output_type": "execute_result"
    }
   ],
   "source": [
    "dfTrain['Age'].mean()"
   ]
  },
  {
   "cell_type": "code",
   "execution_count": 7,
   "id": "0f083582-9997-4d0e-9012-30a30d522d82",
   "metadata": {},
   "outputs": [
    {
     "data": {
      "text/plain": [
       "32.17850287907869"
      ]
     },
     "execution_count": 7,
     "metadata": {},
     "output_type": "execute_result"
    }
   ],
   "source": [
    "dfTrain[dfTrain['Parch']==0]['Age'].mean()"
   ]
  },
  {
   "cell_type": "code",
   "execution_count": 8,
   "id": "0af657f7-8334-4d2c-a829-aa8a01ba3255",
   "metadata": {},
   "outputs": [
    {
     "data": {
      "text/plain": [
       "9.817065217391304"
      ]
     },
     "execution_count": 8,
     "metadata": {},
     "output_type": "execute_result"
    }
   ],
   "source": [
    "dfTrain[((dfTrain['Parch']>0) & ~((dfTrain['Name'].str.contains('Mrs')) | (dfTrain['Name'].str.contains('Mr'))))]['Age'].mean()"
   ]
  },
  {
   "cell_type": "code",
   "execution_count": 9,
   "id": "8632bcb6-b31d-4079-88af-f857ab435665",
   "metadata": {},
   "outputs": [
    {
     "data": {
      "text/plain": [
       "35.01980198019802"
      ]
     },
     "execution_count": 9,
     "metadata": {},
     "output_type": "execute_result"
    }
   ],
   "source": [
    "dfTrain[(dfTrain['Parch']>0) & ((dfTrain['Name'].str.contains('Mrs')) | (dfTrain['Name'].str.contains('Mr')))]['Age'].mean()"
   ]
  },
  {
   "cell_type": "code",
   "execution_count": 10,
   "id": "bc508a13-c61e-444d-ab2a-1458bd65254d",
   "metadata": {},
   "outputs": [],
   "source": [
    "dfAge = dfTrain.copy()"
   ]
  },
  {
   "cell_type": "code",
   "execution_count": 11,
   "id": "a3de7d9d-39d7-4004-9770-a16031769fe6",
   "metadata": {},
   "outputs": [],
   "source": [
    "dfAge.loc[(dfAge['Parch']==0) & (dfAge['Age'].isnull()), 'Age'] = dfTrain['Age'].mean()"
   ]
  },
  {
   "cell_type": "code",
   "execution_count": 12,
   "id": "ea54e9ec-b067-481c-ba43-37b86b0868b7",
   "metadata": {},
   "outputs": [],
   "source": [
    "dfAge.loc[(dfAge['Age'].isnull()) & (dfAge['Parch']>0) & ~((dfTrain['Name'].str.contains('Mrs')) | (dfTrain['Name'].str.contains('Mr'))),'Age'] = 9.817065217391304"
   ]
  },
  {
   "cell_type": "code",
   "execution_count": 13,
   "id": "70c8749e-5817-4d51-a1dd-b8f326377e42",
   "metadata": {},
   "outputs": [],
   "source": [
    "dfAge.loc[(dfAge['Age'].isnull()) & (dfAge['Parch']>0) & ((dfTrain['Name'].str.contains('Mrs')) | (dfTrain['Name'].str.contains('Mr'))),'Age'] = 35.01980198019802"
   ]
  },
  {
   "cell_type": "code",
   "execution_count": 14,
   "id": "bc4e96bc-f638-4921-905f-817d63d7852b",
   "metadata": {},
   "outputs": [
    {
     "data": {
      "text/plain": [
       "PassengerId      0\n",
       "Survived         0\n",
       "Pclass           0\n",
       "Name             0\n",
       "Sex              0\n",
       "Age              0\n",
       "SibSp            0\n",
       "Parch            0\n",
       "Ticket           0\n",
       "Fare             0\n",
       "Cabin          687\n",
       "Embarked         2\n",
       "dtype: int64"
      ]
     },
     "execution_count": 14,
     "metadata": {},
     "output_type": "execute_result"
    }
   ],
   "source": [
    "dfAge.isnull().sum()"
   ]
  },
  {
   "cell_type": "markdown",
   "id": "3be93906-73aa-4c09-b436-38d05ff4c52c",
   "metadata": {},
   "source": [
    "<h2>Test</h2>"
   ]
  },
  {
   "cell_type": "code",
   "execution_count": 15,
   "id": "191d0437-a5ae-4db4-a020-bd80370c3fd0",
   "metadata": {},
   "outputs": [
    {
     "data": {
      "text/plain": [
       "30.272590361445783"
      ]
     },
     "execution_count": 15,
     "metadata": {},
     "output_type": "execute_result"
    }
   ],
   "source": [
    "dfTest['Age'].mean()"
   ]
  },
  {
   "cell_type": "code",
   "execution_count": 16,
   "id": "c427c2a8-a797-4f88-86a5-9035c4fb6e68",
   "metadata": {},
   "outputs": [
    {
     "data": {
      "text/plain": [
       "31.52834008097166"
      ]
     },
     "execution_count": 16,
     "metadata": {},
     "output_type": "execute_result"
    }
   ],
   "source": [
    "dfTest[dfTest['Parch']==0]['Age'].mean()"
   ]
  },
  {
   "cell_type": "code",
   "execution_count": 17,
   "id": "f14eff17-4b99-45b9-a0e2-9515dd097c4c",
   "metadata": {},
   "outputs": [
    {
     "data": {
      "text/plain": [
       "12.05"
      ]
     },
     "execution_count": 17,
     "metadata": {},
     "output_type": "execute_result"
    }
   ],
   "source": [
    "dfTest[((dfTest['Parch']>0) & ~((dfTest['Name'].str.contains('Mrs')) | (dfTest['Name'].str.contains('Mr'))))]['Age'].mean()"
   ]
  },
  {
   "cell_type": "code",
   "execution_count": 18,
   "id": "0fd2dff4-3c39-43ec-8a3a-f1cc18fc0bb0",
   "metadata": {},
   "outputs": [
    {
     "data": {
      "text/plain": [
       "39.577777777777776"
      ]
     },
     "execution_count": 18,
     "metadata": {},
     "output_type": "execute_result"
    }
   ],
   "source": [
    "dfTest[(dfTest['Parch']>0) & ((dfTest['Name'].str.contains('Mrs')) | (dfTest['Name'].str.contains('Mr')))]['Age'].mean()"
   ]
  },
  {
   "cell_type": "code",
   "execution_count": 19,
   "id": "38582e90-58f4-4591-a310-4e653a267fcc",
   "metadata": {},
   "outputs": [],
   "source": [
    "dfTest.loc[(dfTest['Parch']==0) & (dfTest['Age'].isnull()), 'Age'] = dfTest['Age'].mean()"
   ]
  },
  {
   "cell_type": "code",
   "execution_count": 20,
   "id": "f638a417-2e7b-4be0-b6cb-3a2dcf0cd27a",
   "metadata": {},
   "outputs": [],
   "source": [
    "dfTest.loc[(dfTest['Age'].isnull()) & (dfTest['Parch']>0) & ~((dfTest['Name'].str.contains('Mrs')) | (dfTest['Name'].str.contains('Mr'))),'Age'] = 12.05"
   ]
  },
  {
   "cell_type": "code",
   "execution_count": 21,
   "id": "65b67106-fa32-4e61-8d39-7154e1d19e05",
   "metadata": {},
   "outputs": [],
   "source": [
    "dfTest.loc[(dfTest['Age'].isnull()) & (dfTest['Parch']>0) & ((dfTest['Name'].str.contains('Mrs')) | (dfTest['Name'].str.contains('Mr'))),'Age'] = 39.577777777777776"
   ]
  },
  {
   "cell_type": "code",
   "execution_count": 22,
   "id": "354e9fd5-4561-4f2f-940c-e5b04e91ea09",
   "metadata": {},
   "outputs": [
    {
     "data": {
      "text/plain": [
       "PassengerId      0\n",
       "Pclass           0\n",
       "Name             0\n",
       "Sex              0\n",
       "Age              0\n",
       "SibSp            0\n",
       "Parch            0\n",
       "Ticket           0\n",
       "Fare             1\n",
       "Cabin          327\n",
       "Embarked         0\n",
       "dtype: int64"
      ]
     },
     "execution_count": 22,
     "metadata": {},
     "output_type": "execute_result"
    }
   ],
   "source": [
    "dfTest.isnull().sum()"
   ]
  },
  {
   "cell_type": "markdown",
   "id": "4b090446-371e-43c3-a1e1-0e56c2e879ce",
   "metadata": {},
   "source": [
    "<h1>Tratamento de cabines nulas</h1>"
   ]
  },
  {
   "cell_type": "markdown",
   "id": "64107a14-ccb8-477e-ad5b-a3e70b13f241",
   "metadata": {},
   "source": [
    "<h2>Train</h2>"
   ]
  },
  {
   "cell_type": "code",
   "execution_count": 23,
   "id": "a40d0e6e-3434-4ec7-abe4-757a896d2c40",
   "metadata": {},
   "outputs": [],
   "source": [
    "dfAgeCabin = dfAge.copy()"
   ]
  },
  {
   "cell_type": "code",
   "execution_count": 24,
   "id": "2b01d797-02f8-46f5-94c2-a0868c26dc9a",
   "metadata": {},
   "outputs": [],
   "source": [
    "#P1\n",
    "A_q1 = dfAgeCabin[dfAgeCabin['Cabin'].str[:1] == 'A']['Fare'].quantile([0.25][0])\n",
    "A_q3 = dfAgeCabin[dfAgeCabin['Cabin'].str[:1] == 'A']['Fare'].quantile([0.75][0])\n",
    "B_mean = dfAgeCabin[dfAgeCabin['Cabin'].str[:1] == 'B']['Fare'].mean()"
   ]
  },
  {
   "cell_type": "code",
   "execution_count": 25,
   "id": "d8923700-abe6-454b-beb3-33607bc47a7b",
   "metadata": {},
   "outputs": [],
   "source": [
    "dfAgeCabin.loc[(dfAgeCabin['Cabin'].isnull()) & (dfAgeCabin['Pclass']==1) & (dfAgeCabin['Fare'] >= A_q1)& (dfAgeCabin['Fare'] < A_q3),'Cabin']='A'"
   ]
  },
  {
   "cell_type": "code",
   "execution_count": 26,
   "id": "c5b2b8d0-f2a3-4f26-b861-879c088a2b66",
   "metadata": {},
   "outputs": [],
   "source": [
    "dfAgeCabin.loc[(dfAgeCabin['Cabin'].isnull()) & (dfAgeCabin['Pclass']==1) & (dfAgeCabin['Fare'] >= A_q3) & (dfAgeCabin['Fare'] < B_mean),'Cabin']='B'"
   ]
  },
  {
   "cell_type": "code",
   "execution_count": 27,
   "id": "d1990abb-e7eb-4975-9237-497800ea9500",
   "metadata": {},
   "outputs": [],
   "source": [
    "dfAgeCabin.loc[(dfAgeCabin['Cabin'].isnull()) & (dfAgeCabin['Pclass']==1) & (dfAgeCabin['Fare'] >= B_mean),'Cabin']='C'"
   ]
  },
  {
   "cell_type": "code",
   "execution_count": 28,
   "id": "c9f3a7b5-0c19-4af2-9727-c8263160a8ae",
   "metadata": {},
   "outputs": [],
   "source": [
    "dfAgeCabin.loc[(dfAgeCabin['Pclass']==1) & (dfAgeCabin['Cabin'].isnull()),'Cabin'] = 'E'"
   ]
  },
  {
   "cell_type": "code",
   "execution_count": 29,
   "id": "db7b171f-c345-4ecd-9896-1b2806addd9c",
   "metadata": {},
   "outputs": [
    {
     "data": {
      "text/plain": [
       "(57.24457575757575, 38.64557083333333, 18.69679230769231)"
      ]
     },
     "execution_count": 29,
     "metadata": {},
     "output_type": "execute_result"
    }
   ],
   "source": [
    "#P2\n",
    "D_mean = dfAgeCabin[dfAgeCabin['Cabin'].str[:1] == 'D']['Fare'].mean()\n",
    "E_mean = dfAgeCabin[dfAgeCabin['Cabin'].str[:1] == 'E']['Fare'].mean()\n",
    "F_mean = dfAgeCabin[dfAgeCabin['Cabin'].str[:1] == 'F']['Fare'].mean()\n",
    "D_mean, E_mean, F_mean"
   ]
  },
  {
   "cell_type": "code",
   "execution_count": 30,
   "id": "cc72c062-96bb-4d10-9226-392650ae3236",
   "metadata": {},
   "outputs": [],
   "source": [
    "dfAgeCabin.loc[(dfAgeCabin['Cabin'].isnull()) & (dfAgeCabin['Pclass']==2) & (dfAgeCabin['Fare'] >= E_mean) & (dfAgeCabin['Fare'] < D_mean),'Cabin']='E'"
   ]
  },
  {
   "cell_type": "code",
   "execution_count": 31,
   "id": "9589bf05-8eee-477a-a6b4-da0317d83d3b",
   "metadata": {},
   "outputs": [],
   "source": [
    "dfAgeCabin.loc[(dfAgeCabin['Cabin'].isnull()) & (dfAgeCabin['Pclass']==2) & (dfAgeCabin['Fare'] > D_mean),'Cabin']='D'"
   ]
  },
  {
   "cell_type": "code",
   "execution_count": 32,
   "id": "78f6f01e-febb-499a-a7d8-8b8bc925a719",
   "metadata": {},
   "outputs": [],
   "source": [
    "dfAgeCabin.loc[(dfAgeCabin['Cabin'].isnull()) & (dfAgeCabin['Pclass']==2) & (dfAgeCabin['Fare'] >= F_mean) & (dfAgeCabin['Fare'] < E_mean),'Cabin']='F'"
   ]
  },
  {
   "cell_type": "code",
   "execution_count": 33,
   "id": "c265349f-e12a-489e-83ee-fc7e7754a399",
   "metadata": {},
   "outputs": [],
   "source": [
    "dfAgeCabin.loc[(dfAgeCabin['Pclass']==2) & (dfAgeCabin['Cabin'].isnull()),'Cabin'] = 'E'"
   ]
  },
  {
   "cell_type": "code",
   "execution_count": 34,
   "id": "2559df58-3516-40a5-baf6-c35fbb12fca0",
   "metadata": {},
   "outputs": [
    {
     "data": {
      "text/plain": [
       "22.3583"
      ]
     },
     "execution_count": 34,
     "metadata": {},
     "output_type": "execute_result"
    }
   ],
   "source": [
    "#P3\n",
    "G_max = dfAgeCabin[(dfAgeCabin['Pclass']==3) & (dfAgeCabin['Cabin'].str[:1]=='G')]['Fare'].max()\n",
    "F_max = dfAgeCabin[(dfAgeCabin['Pclass']==3) & (dfAgeCabin['Cabin'].str[:1]=='F')]['Fare'].max()\n",
    "F_max"
   ]
  },
  {
   "cell_type": "code",
   "execution_count": 35,
   "id": "0a7fa058-cdcb-47fb-ae86-11ecf6f21d5e",
   "metadata": {},
   "outputs": [],
   "source": [
    "dfAgeCabin.loc[(dfAgeCabin['Cabin'].isnull()) & (dfAgeCabin['Pclass']==3) & (dfAgeCabin['Fare'] <= G_max),'Cabin'] = 'G'"
   ]
  },
  {
   "cell_type": "code",
   "execution_count": 36,
   "id": "850000d8-922c-4403-a4b1-604b0f73a711",
   "metadata": {},
   "outputs": [],
   "source": [
    "dfAgeCabin.loc[(dfAgeCabin['Cabin'].isnull()) & (dfAgeCabin['Pclass']==3) & (dfAgeCabin['Fare'] > G_max) & (dfAgeCabin['Fare'] <= F_max),'Cabin'] ='F'"
   ]
  },
  {
   "cell_type": "code",
   "execution_count": 37,
   "id": "3eecae84-7ddc-48c8-a815-0e5a7fecc009",
   "metadata": {},
   "outputs": [],
   "source": [
    "dfAgeCabin.loc[(dfAgeCabin['Cabin'].isnull()) & (dfAgeCabin['Pclass']==3),'Cabin'] = 'E'"
   ]
  },
  {
   "cell_type": "code",
   "execution_count": 38,
   "id": "5700c395-c9f4-4f54-9fdf-72b77564b2f7",
   "metadata": {
    "scrolled": true
   },
   "outputs": [
    {
     "data": {
      "text/plain": [
       "PassengerId    0\n",
       "Survived       0\n",
       "Pclass         0\n",
       "Name           0\n",
       "Sex            0\n",
       "Age            0\n",
       "SibSp          0\n",
       "Parch          0\n",
       "Ticket         0\n",
       "Fare           0\n",
       "Cabin          0\n",
       "Embarked       2\n",
       "dtype: int64"
      ]
     },
     "execution_count": 38,
     "metadata": {},
     "output_type": "execute_result"
    }
   ],
   "source": [
    "dfAgeCabin.isnull().sum()"
   ]
  },
  {
   "cell_type": "markdown",
   "id": "87ebe421-7d5f-40bc-be4b-406142ed49e4",
   "metadata": {},
   "source": [
    "<h2>Test</h2>"
   ]
  },
  {
   "cell_type": "code",
   "execution_count": 39,
   "id": "8bcd0b32-edc6-4f69-bbd3-a911fb34f41c",
   "metadata": {},
   "outputs": [],
   "source": [
    "#P1\n",
    "A_q1 = dfTest[dfTest['Cabin'].str[:1] == 'A']['Fare'].quantile([0.25][0])\n",
    "A_q3 = dfTest[dfTest['Cabin'].str[:1] == 'A']['Fare'].quantile([0.75][0])\n",
    "B_mean = dfTest[dfTest['Cabin'].str[:1] == 'B']['Fare'].mean()"
   ]
  },
  {
   "cell_type": "code",
   "execution_count": 40,
   "id": "784f2021-6e48-40e0-80e7-bc22ce8b86d0",
   "metadata": {},
   "outputs": [],
   "source": [
    "dfTest.loc[(dfTest['Cabin'].isnull()) & (dfTest['Pclass']==1) & (dfTest['Fare'] >= A_q1)& (dfTest['Fare'] < A_q3),'Cabin']='A'"
   ]
  },
  {
   "cell_type": "code",
   "execution_count": 41,
   "id": "594d1a79-61f4-4533-99c6-7e906a455246",
   "metadata": {},
   "outputs": [],
   "source": [
    "dfTest.loc[(dfTest['Cabin'].isnull()) & (dfTest['Pclass']==1) & (dfTest['Fare'] >= A_q3) & (dfTest['Fare'] < B_mean),'Cabin']='B'"
   ]
  },
  {
   "cell_type": "code",
   "execution_count": 42,
   "id": "51b1b556-69e0-4175-ae1b-7bed154a9e90",
   "metadata": {},
   "outputs": [],
   "source": [
    "dfTest.loc[(dfTest['Cabin'].isnull()) & (dfTest['Pclass']==1) & (dfTest['Fare'] >= B_mean),'Cabin']='C'"
   ]
  },
  {
   "cell_type": "code",
   "execution_count": 43,
   "id": "8d5a7237-d3d1-4a8e-924f-ff7f79ae7973",
   "metadata": {},
   "outputs": [],
   "source": [
    "dfTest.loc[(dfTest['Pclass']==1) & (dfTest['Cabin'].isnull()),'Cabin'] = 'E'"
   ]
  },
  {
   "cell_type": "code",
   "execution_count": 44,
   "id": "61b20cad-5251-47d7-9b08-98c45c9eb432",
   "metadata": {},
   "outputs": [
    {
     "data": {
      "text/plain": [
       "(42.251276923076915, 49.23294999999999, 17.076050000000002)"
      ]
     },
     "execution_count": 44,
     "metadata": {},
     "output_type": "execute_result"
    }
   ],
   "source": [
    "#P2\n",
    "D_mean = dfTest[dfTest['Cabin'].str[:1] == 'D']['Fare'].mean()\n",
    "E_mean = dfTest[dfTest['Cabin'].str[:1] == 'E']['Fare'].mean()\n",
    "F_mean = dfTest[dfTest['Cabin'].str[:1] == 'F']['Fare'].mean()\n",
    "D_mean, E_mean, F_mean"
   ]
  },
  {
   "cell_type": "code",
   "execution_count": 45,
   "id": "9620f747-6eb8-4ad7-abb8-f0eaedbff6e8",
   "metadata": {},
   "outputs": [],
   "source": [
    "dfTest.loc[(dfTest['Cabin'].isnull()) & (dfTest['Pclass']==2) & (dfTest['Fare'] >= E_mean) & (dfTest['Fare'] < D_mean),'Cabin']='E'"
   ]
  },
  {
   "cell_type": "code",
   "execution_count": 46,
   "id": "f93f278b-e205-463f-b827-17b56039c1b5",
   "metadata": {},
   "outputs": [],
   "source": [
    "dfTest.loc[(dfTest['Cabin'].isnull()) & (dfTest['Pclass']==2) & (dfTest['Fare'] > D_mean),'Cabin']='D'"
   ]
  },
  {
   "cell_type": "code",
   "execution_count": 47,
   "id": "120fdb29-eb92-4aab-b159-39415e84c4b0",
   "metadata": {},
   "outputs": [],
   "source": [
    "dfTest.loc[(dfTest['Cabin'].isnull()) & (dfTest['Pclass']==2) & (dfTest['Fare'] >= F_mean) & (dfTest['Fare'] < E_mean),'Cabin']='F'"
   ]
  },
  {
   "cell_type": "code",
   "execution_count": 48,
   "id": "07a920d0-89a2-4629-ad57-d8575778b78f",
   "metadata": {},
   "outputs": [],
   "source": [
    "dfTest.loc[(dfTest['Pclass']==2) & (dfTest['Cabin'].isnull()),'Cabin'] = 'E'"
   ]
  },
  {
   "cell_type": "code",
   "execution_count": 49,
   "id": "e803e8eb-256e-479d-89e9-301eb4c21824",
   "metadata": {},
   "outputs": [
    {
     "data": {
      "text/plain": [
       "7.65"
      ]
     },
     "execution_count": 49,
     "metadata": {},
     "output_type": "execute_result"
    }
   ],
   "source": [
    "#P3\n",
    "G_max = dfTest[(dfTest['Pclass']==3) & (dfTest['Cabin'].str[:1]=='G')]['Fare'].max()\n",
    "F_max = dfTest[(dfTest['Pclass']==3) & (dfTest['Cabin'].str[:1]=='F')]['Fare'].max()\n",
    "F_max"
   ]
  },
  {
   "cell_type": "code",
   "execution_count": 50,
   "id": "512efc25-54f5-44d2-8d32-2f6faecd5954",
   "metadata": {},
   "outputs": [],
   "source": [
    "dfTest.loc[(dfTest['Cabin'].isnull()) & (dfTest['Pclass']==3) & (dfTest['Fare'] <= G_max),'Cabin'] = 'G'"
   ]
  },
  {
   "cell_type": "code",
   "execution_count": 51,
   "id": "e2b28fc1-fdac-4a2a-8cfd-4a52a147a769",
   "metadata": {},
   "outputs": [],
   "source": [
    "dfTest.loc[(dfTest['Cabin'].isnull()) & (dfTest['Pclass']==3) & (dfTest['Fare'] > G_max) & (dfTest['Fare'] <= F_max),'Cabin'] ='F'"
   ]
  },
  {
   "cell_type": "code",
   "execution_count": 52,
   "id": "7ebc53e0-0152-4d9c-ab88-688ab10cdef5",
   "metadata": {},
   "outputs": [],
   "source": [
    "dfTest.loc[(dfTest['Cabin'].isnull()) & (dfTest['Pclass']==3),'Cabin'] = 'E'"
   ]
  },
  {
   "cell_type": "code",
   "execution_count": 53,
   "id": "96adbe30-f7b5-4773-b5ba-368cf29765d0",
   "metadata": {},
   "outputs": [
    {
     "data": {
      "text/plain": [
       "PassengerId    0\n",
       "Pclass         0\n",
       "Name           0\n",
       "Sex            0\n",
       "Age            0\n",
       "SibSp          0\n",
       "Parch          0\n",
       "Ticket         0\n",
       "Fare           1\n",
       "Cabin          0\n",
       "Embarked       0\n",
       "dtype: int64"
      ]
     },
     "execution_count": 53,
     "metadata": {},
     "output_type": "execute_result"
    }
   ],
   "source": [
    "dfTest.isnull().sum()"
   ]
  },
  {
   "cell_type": "code",
   "execution_count": 54,
   "id": "2af1d837-59f1-45bb-80c9-4fa22b9d6324",
   "metadata": {},
   "outputs": [],
   "source": [
    "dfTest.loc[dfTest['Fare'].isnull(),'Fare'] = dfTest.loc[dfTest['Pclass']==3]['Fare'].mean()"
   ]
  },
  {
   "cell_type": "code",
   "execution_count": 55,
   "id": "50e6a55a-eae5-4d76-8c35-0fb18211dd1f",
   "metadata": {
    "scrolled": true
   },
   "outputs": [
    {
     "data": {
      "text/plain": [
       "PassengerId    0\n",
       "Pclass         0\n",
       "Name           0\n",
       "Sex            0\n",
       "Age            0\n",
       "SibSp          0\n",
       "Parch          0\n",
       "Ticket         0\n",
       "Fare           0\n",
       "Cabin          0\n",
       "Embarked       0\n",
       "dtype: int64"
      ]
     },
     "execution_count": 55,
     "metadata": {},
     "output_type": "execute_result"
    }
   ],
   "source": [
    "dfTest.isnull().sum()"
   ]
  },
  {
   "cell_type": "markdown",
   "id": "ffa2adaf-d84b-4829-ad9c-173d538383df",
   "metadata": {},
   "source": [
    "<h1>Cabine</h1>"
   ]
  },
  {
   "cell_type": "code",
   "execution_count": 56,
   "id": "d4bfecd4-c374-40ec-8d80-ea9490509288",
   "metadata": {},
   "outputs": [],
   "source": [
    "dfAgeCabin['Cabin'] = dfAgeCabin['Cabin'].str[:1]"
   ]
  },
  {
   "cell_type": "markdown",
   "id": "37952c8a-c2c2-43ab-a6a9-ff7970c7900e",
   "metadata": {},
   "source": [
    "<h1>Tratamento de embarcados nulos</h1>"
   ]
  },
  {
   "cell_type": "code",
   "execution_count": 57,
   "id": "aa43a192-e6e4-4514-b53c-5819287ba5c4",
   "metadata": {},
   "outputs": [],
   "source": [
    "dfAgeCabin.loc[dfAgeCabin['Embarked'].isnull(),'Embarked'] ='S'"
   ]
  },
  {
   "cell_type": "code",
   "execution_count": 58,
   "id": "5b5dc123-9a92-4d7b-8a2f-b332639751c2",
   "metadata": {},
   "outputs": [
    {
     "data": {
      "text/plain": [
       "PassengerId    0\n",
       "Survived       0\n",
       "Pclass         0\n",
       "Name           0\n",
       "Sex            0\n",
       "Age            0\n",
       "SibSp          0\n",
       "Parch          0\n",
       "Ticket         0\n",
       "Fare           0\n",
       "Cabin          0\n",
       "Embarked       0\n",
       "dtype: int64"
      ]
     },
     "execution_count": 58,
     "metadata": {},
     "output_type": "execute_result"
    }
   ],
   "source": [
    "dfAgeCabin.isnull().sum()"
   ]
  },
  {
   "cell_type": "markdown",
   "id": "c533216a-1de5-4b7f-b8f6-00b5b3aeeab8",
   "metadata": {},
   "source": [
    "<h1>Previsores x Classe</h1>"
   ]
  },
  {
   "cell_type": "code",
   "execution_count": 59,
   "id": "e2769946-e87a-4755-b5ed-e3ccacd68998",
   "metadata": {},
   "outputs": [
    {
     "data": {
      "text/html": [
       "<div>\n",
       "<style scoped>\n",
       "    .dataframe tbody tr th:only-of-type {\n",
       "        vertical-align: middle;\n",
       "    }\n",
       "\n",
       "    .dataframe tbody tr th {\n",
       "        vertical-align: top;\n",
       "    }\n",
       "\n",
       "    .dataframe thead th {\n",
       "        text-align: right;\n",
       "    }\n",
       "</style>\n",
       "<table border=\"1\" class=\"dataframe\">\n",
       "  <thead>\n",
       "    <tr style=\"text-align: right;\">\n",
       "      <th></th>\n",
       "      <th>PassengerId</th>\n",
       "      <th>Survived</th>\n",
       "      <th>Pclass</th>\n",
       "      <th>Name</th>\n",
       "      <th>Sex</th>\n",
       "      <th>Age</th>\n",
       "      <th>SibSp</th>\n",
       "      <th>Parch</th>\n",
       "      <th>Ticket</th>\n",
       "      <th>Fare</th>\n",
       "      <th>Cabin</th>\n",
       "      <th>Embarked</th>\n",
       "    </tr>\n",
       "  </thead>\n",
       "  <tbody>\n",
       "    <tr>\n",
       "      <th>0</th>\n",
       "      <td>1</td>\n",
       "      <td>0</td>\n",
       "      <td>3</td>\n",
       "      <td>Braund, Mr. Owen Harris</td>\n",
       "      <td>male</td>\n",
       "      <td>22.0</td>\n",
       "      <td>1</td>\n",
       "      <td>0</td>\n",
       "      <td>A/5 21171</td>\n",
       "      <td>7.25</td>\n",
       "      <td>G</td>\n",
       "      <td>S</td>\n",
       "    </tr>\n",
       "  </tbody>\n",
       "</table>\n",
       "</div>"
      ],
      "text/plain": [
       "   PassengerId  Survived  Pclass                     Name   Sex   Age  SibSp  \\\n",
       "0            1         0       3  Braund, Mr. Owen Harris  male  22.0      1   \n",
       "\n",
       "   Parch     Ticket  Fare Cabin Embarked  \n",
       "0      0  A/5 21171  7.25     G        S  "
      ]
     },
     "execution_count": 59,
     "metadata": {},
     "output_type": "execute_result"
    }
   ],
   "source": [
    "dfAgeCabin.head(1)"
   ]
  },
  {
   "cell_type": "code",
   "execution_count": 60,
   "id": "46439ff2-16eb-4c5a-a639-0c95d38b4235",
   "metadata": {},
   "outputs": [],
   "source": [
    "X_train = dfAgeCabin.iloc[:,[2,4,5,6,7,9,10,11]].values"
   ]
  },
  {
   "cell_type": "code",
   "execution_count": 61,
   "id": "8958cd0b-1e7c-469c-a8e6-e5a3d844634e",
   "metadata": {},
   "outputs": [],
   "source": [
    "y_train = dfAgeCabin.iloc[:,1].values"
   ]
  },
  {
   "cell_type": "code",
   "execution_count": 62,
   "id": "7ebe8c29-3044-4e04-929d-2e49d76022fd",
   "metadata": {
    "scrolled": true
   },
   "outputs": [
    {
     "data": {
      "text/plain": [
       "((891, 8), (891,))"
      ]
     },
     "execution_count": 62,
     "metadata": {},
     "output_type": "execute_result"
    }
   ],
   "source": [
    "X_train.shape, y_train.shape"
   ]
  },
  {
   "cell_type": "code",
   "execution_count": 63,
   "id": "228c5a37-7f4e-4461-8dfb-36b16085b441",
   "metadata": {},
   "outputs": [],
   "source": [
    "X_test = dfTest.iloc[:,[1,3,4,5,6,8,9,10]].values"
   ]
  },
  {
   "cell_type": "code",
   "execution_count": 64,
   "id": "d622f56f-e859-4385-8d1d-834336e7fe03",
   "metadata": {},
   "outputs": [
    {
     "data": {
      "text/plain": [
       "array([[3, 'male', 22.0, ..., 7.25, 'G', 'S'],\n",
       "       [1, 'female', 38.0, ..., 71.2833, 'C', 'C'],\n",
       "       [3, 'female', 26.0, ..., 7.925, 'G', 'S'],\n",
       "       ...,\n",
       "       [3, 'female', 9.817065217391304, ..., 23.45, 'E', 'S'],\n",
       "       [1, 'male', 26.0, ..., 30.0, 'C', 'C'],\n",
       "       [3, 'male', 32.0, ..., 7.75, 'G', 'Q']], dtype=object)"
      ]
     },
     "execution_count": 64,
     "metadata": {},
     "output_type": "execute_result"
    }
   ],
   "source": [
    "X_train"
   ]
  },
  {
   "cell_type": "markdown",
   "id": "845e72a6-c89f-4260-bbdd-bf03b22024a8",
   "metadata": {},
   "source": [
    "<h1>Label Encoder</h1>"
   ]
  },
  {
   "cell_type": "code",
   "execution_count": 65,
   "id": "94f3fc8d-e66c-4105-bdcb-52acf714e761",
   "metadata": {
    "scrolled": true
   },
   "outputs": [
    {
     "data": {
      "text/plain": [
       "array([3, 'male', 22.0, 1, 0, 7.25, 'G', 'S'], dtype=object)"
      ]
     },
     "execution_count": 65,
     "metadata": {},
     "output_type": "execute_result"
    }
   ],
   "source": [
    "X_train[0]"
   ]
  },
  {
   "cell_type": "code",
   "execution_count": 66,
   "id": "ce8d7ab3-a50c-4225-bd5e-106e5316b4be",
   "metadata": {},
   "outputs": [],
   "source": [
    "from sklearn.preprocessing import LabelEncoder"
   ]
  },
  {
   "cell_type": "code",
   "execution_count": 67,
   "id": "c0a3c69d-5683-43fa-af49-7f669317618f",
   "metadata": {},
   "outputs": [],
   "source": [
    "label_encoder_sex = LabelEncoder()\n",
    "label_encoder_cabin = LabelEncoder()\n",
    "label_encoder_embarked = LabelEncoder()"
   ]
  },
  {
   "cell_type": "code",
   "execution_count": 68,
   "id": "84a5bce0-8f6f-41c0-9279-53bbef28e6e2",
   "metadata": {},
   "outputs": [],
   "source": [
    "X_train[:,1] = label_encoder_sex.fit_transform(X_train[:,1])\n",
    "X_train[:,6] = label_encoder_cabin.fit_transform(X_train[:,6])\n",
    "X_train[:,7] = label_encoder_embarked.fit_transform(X_train[:,7])\n",
    "X_test[:,1] = label_encoder_sex.fit_transform(X_test[:,1])\n",
    "X_test[:,6] = label_encoder_cabin.fit_transform(X_test[:,6])\n",
    "X_test[:,7] = label_encoder_embarked.fit_transform(X_test[:,7])"
   ]
  },
  {
   "cell_type": "code",
   "execution_count": 69,
   "id": "e2c39394-190e-4d57-bf56-d89b35ae039a",
   "metadata": {
    "scrolled": true
   },
   "outputs": [
    {
     "data": {
      "text/plain": [
       "array([0, 1, 1, 1, 0, 0, 0, 0, 1, 1, 1, 1, 0, 0, 0, 1, 0, 1, 0, 1, 0, 1,\n",
       "       1, 1, 0, 1, 0, 0, 1, 0, 0, 1, 1, 0, 0, 0, 1, 0, 0, 1, 0, 0, 0, 1,\n",
       "       1, 0, 0, 1, 0, 0, 0, 0, 1, 1, 0, 1, 1, 0, 1, 0, 0, 1, 0, 0, 0, 1,\n",
       "       1, 0, 1, 0, 0, 0, 0, 0, 1, 0, 0, 0, 1, 1, 0, 1, 1, 0, 1, 1, 0, 0,\n",
       "       1, 0, 0, 0, 0, 0, 0, 0, 0, 1, 1, 0, 0, 0, 0, 0, 0, 0, 1, 1, 0, 1,\n",
       "       0, 0, 0, 0, 0, 0, 0, 0, 0, 0, 0, 0, 0, 1, 0, 1, 0, 1, 1, 0, 0, 0,\n",
       "       0, 1, 0, 0, 1, 0, 0, 0, 0, 1, 1, 0, 0, 0, 1, 0, 0, 0, 0, 1, 0, 0,\n",
       "       0, 0, 1, 0, 0, 0, 0, 1, 0, 0, 0, 1, 1, 0, 0, 0, 0, 0, 1, 0, 0, 0,\n",
       "       0, 0, 0, 0, 0, 0, 0, 1, 1, 0, 1, 1, 0, 0, 1, 0, 1, 1, 1, 1, 0, 0,\n",
       "       1, 0, 0, 0, 0, 0, 1, 0, 0, 1, 1, 1, 0, 1, 0, 0, 0, 1, 1, 0, 1, 0,\n",
       "       1, 0, 0, 0, 1, 0, 1, 0, 0, 0, 1, 0, 0, 1, 0, 0, 0, 1, 0, 0, 0, 1,\n",
       "       0, 0, 0, 0, 0, 1, 1, 0, 0, 0, 0, 0, 0, 1, 1, 1, 1, 1, 0, 1, 0, 0,\n",
       "       0, 0, 0, 1, 1, 1, 0, 1, 1, 0, 1, 1, 0, 0, 0, 1, 0, 0, 0, 1, 0, 0,\n",
       "       1, 0, 1, 1, 1, 1, 0, 0, 0, 0, 0, 0, 1, 1, 1, 1, 0, 1, 0, 1, 1, 1,\n",
       "       0, 1, 1, 1, 0, 0, 0, 1, 1, 0, 1, 1, 0, 0, 1, 1, 0, 1, 0, 1, 1, 1,\n",
       "       1, 0, 0, 0, 1, 0, 0, 1, 1, 0, 1, 1, 0, 0, 0, 1, 1, 1, 1, 0, 0, 0,\n",
       "       0, 0, 0, 0, 1, 0, 1, 1, 0, 0, 0, 0, 0, 0, 1, 1, 1, 1, 1, 0, 0, 0,\n",
       "       0, 1, 1, 0, 0, 0, 1, 1, 0, 1, 0, 0, 0, 1, 0, 1, 1, 1, 0, 1, 1, 0,\n",
       "       0, 0, 0, 1, 1, 0, 0, 0, 0, 0, 0, 1, 0, 0, 0, 0, 1, 0, 1, 0, 1, 1,\n",
       "       0, 0, 0, 0, 0, 0, 0, 0, 1, 1, 0, 1, 1, 1, 1, 0, 0, 1, 0, 1, 0, 0,\n",
       "       1, 0, 0, 1, 1, 1, 1, 1, 1, 1, 0, 0, 0, 1, 0, 1, 0, 1, 1, 0, 1, 0,\n",
       "       0, 0, 0, 0, 0, 0, 0, 1, 0, 0, 1, 1, 0, 0, 0, 0, 0, 1, 0, 0, 0, 1,\n",
       "       1, 0, 1, 0, 0, 1, 0, 0, 0, 0, 0, 0, 1, 0, 0, 0, 0, 0, 0, 0, 1, 0,\n",
       "       1, 1, 0, 1, 1, 0, 1, 1, 0, 0, 1, 0, 1, 0, 1, 0, 0, 1, 0, 0, 1, 0,\n",
       "       0, 0, 1, 0, 0, 1, 0, 1, 0, 1, 0, 1, 1, 0, 0, 1, 0, 0, 1, 1, 0, 1,\n",
       "       1, 0, 0, 1, 1, 0, 1, 0, 1, 1, 0, 0, 0, 0, 0, 0, 0, 0, 0, 1, 1, 1,\n",
       "       1, 1, 0, 0, 1, 1, 0, 1, 1, 1, 0, 0, 0, 1, 0, 1, 0, 0, 0, 1, 0, 0,\n",
       "       0, 0, 1, 0, 0, 1, 1, 0, 0, 0, 1, 0, 0, 1, 1, 1, 0, 0, 1, 0, 0, 1,\n",
       "       0, 0, 1, 0, 0, 1, 1, 0, 0, 0, 0, 1, 0, 0, 1, 0, 1, 0, 0, 1, 0, 0,\n",
       "       0, 0, 0, 1, 0, 1, 1, 1, 0, 1, 0, 1, 0, 1, 0, 1, 0, 0, 0, 0, 0, 0,\n",
       "       1, 0, 0, 0, 1, 0, 0, 0, 0, 1, 1, 0, 0, 1, 0, 0, 0, 1, 0, 1, 0, 1,\n",
       "       0, 0, 0, 0, 0, 0, 0, 1, 1, 1, 1, 0, 0, 0, 0, 1, 0, 0, 1, 1, 0, 0,\n",
       "       0, 0, 1, 1, 1, 1, 1, 0, 1, 0, 0, 0, 1, 1, 0, 0, 1, 0, 0, 0, 1, 0,\n",
       "       1, 1, 0, 0, 1, 0, 0, 0, 0, 0, 0, 1, 0, 0, 1, 0, 1, 0, 1, 0, 0, 1,\n",
       "       0, 0, 1, 1, 0, 0, 1, 1, 0, 0, 0, 1, 0, 0, 1, 1, 0, 1, 0, 0, 0, 0,\n",
       "       0, 0, 0, 0, 1, 0, 0, 1, 0, 1, 1, 1, 0, 0, 0, 0, 1, 0, 1, 0, 0, 0,\n",
       "       0, 0, 0, 0, 1, 1, 0, 0, 0, 1, 1, 1, 1, 0, 0, 0, 0, 1, 0, 0, 0, 0,\n",
       "       0, 0, 0, 0, 0, 0, 1, 1, 0, 1, 0, 0, 0, 1, 1, 1, 1, 1, 0, 0, 0, 1,\n",
       "       0, 0, 1, 1, 0, 0, 1, 0, 0, 0, 0, 0, 0, 1, 0, 0, 0, 1, 0, 1, 1, 1,\n",
       "       1, 0, 0, 0, 1, 0, 0, 1, 1, 0, 0, 1, 0, 1, 0, 0, 1, 1, 0, 0, 0, 1,\n",
       "       1, 0, 0, 0, 0, 0, 0, 1, 0, 1, 0], dtype=int64)"
      ]
     },
     "execution_count": 69,
     "metadata": {},
     "output_type": "execute_result"
    }
   ],
   "source": [
    "y_train"
   ]
  },
  {
   "cell_type": "code",
   "execution_count": 70,
   "id": "83d34188-e717-4e7a-92c6-298e4462f1a3",
   "metadata": {},
   "outputs": [
    {
     "data": {
      "text/plain": [
       "numpy.ndarray"
      ]
     },
     "execution_count": 70,
     "metadata": {},
     "output_type": "execute_result"
    }
   ],
   "source": [
    "type(X_train)"
   ]
  },
  {
   "cell_type": "code",
   "execution_count": 71,
   "id": "fd40857e-3d4d-4d4a-a063-0f9654bc6b30",
   "metadata": {},
   "outputs": [
    {
     "data": {
      "text/plain": [
       "numpy.ndarray"
      ]
     },
     "execution_count": 71,
     "metadata": {},
     "output_type": "execute_result"
    }
   ],
   "source": [
    "type(X_test)"
   ]
  },
  {
   "cell_type": "markdown",
   "id": "0ef42d99-4009-4a6d-8a18-9cc4623a0ee0",
   "metadata": {},
   "source": [
    "<h1>One Hot Encoder</h1>"
   ]
  },
  {
   "cell_type": "code",
   "execution_count": 72,
   "id": "4a907a0d-34bd-406d-a2dd-0a11592b0637",
   "metadata": {},
   "outputs": [],
   "source": [
    "from sklearn.preprocessing import OneHotEncoder\n",
    "from sklearn.compose import ColumnTransformer"
   ]
  },
  {
   "cell_type": "code",
   "execution_count": 73,
   "id": "cbc2731d-753d-4056-86b5-96698ae00de2",
   "metadata": {},
   "outputs": [],
   "source": [
    "onehotencoder_titanic = ColumnTransformer(transformers=[('OneHot', OneHotEncoder(), [0,1,3,4,6,7])], remainder = 'passthrough')"
   ]
  },
  {
   "cell_type": "code",
   "execution_count": 74,
   "id": "bdd6f66d-30b6-4194-a9cf-61862ef53fef",
   "metadata": {},
   "outputs": [
    {
     "data": {
      "text/html": [
       "<style>#sk-container-id-1 {color: black;}#sk-container-id-1 pre{padding: 0;}#sk-container-id-1 div.sk-toggleable {background-color: white;}#sk-container-id-1 label.sk-toggleable__label {cursor: pointer;display: block;width: 100%;margin-bottom: 0;padding: 0.3em;box-sizing: border-box;text-align: center;}#sk-container-id-1 label.sk-toggleable__label-arrow:before {content: \"▸\";float: left;margin-right: 0.25em;color: #696969;}#sk-container-id-1 label.sk-toggleable__label-arrow:hover:before {color: black;}#sk-container-id-1 div.sk-estimator:hover label.sk-toggleable__label-arrow:before {color: black;}#sk-container-id-1 div.sk-toggleable__content {max-height: 0;max-width: 0;overflow: hidden;text-align: left;background-color: #f0f8ff;}#sk-container-id-1 div.sk-toggleable__content pre {margin: 0.2em;color: black;border-radius: 0.25em;background-color: #f0f8ff;}#sk-container-id-1 input.sk-toggleable__control:checked~div.sk-toggleable__content {max-height: 200px;max-width: 100%;overflow: auto;}#sk-container-id-1 input.sk-toggleable__control:checked~label.sk-toggleable__label-arrow:before {content: \"▾\";}#sk-container-id-1 div.sk-estimator input.sk-toggleable__control:checked~label.sk-toggleable__label {background-color: #d4ebff;}#sk-container-id-1 div.sk-label input.sk-toggleable__control:checked~label.sk-toggleable__label {background-color: #d4ebff;}#sk-container-id-1 input.sk-hidden--visually {border: 0;clip: rect(1px 1px 1px 1px);clip: rect(1px, 1px, 1px, 1px);height: 1px;margin: -1px;overflow: hidden;padding: 0;position: absolute;width: 1px;}#sk-container-id-1 div.sk-estimator {font-family: monospace;background-color: #f0f8ff;border: 1px dotted black;border-radius: 0.25em;box-sizing: border-box;margin-bottom: 0.5em;}#sk-container-id-1 div.sk-estimator:hover {background-color: #d4ebff;}#sk-container-id-1 div.sk-parallel-item::after {content: \"\";width: 100%;border-bottom: 1px solid gray;flex-grow: 1;}#sk-container-id-1 div.sk-label:hover label.sk-toggleable__label {background-color: #d4ebff;}#sk-container-id-1 div.sk-serial::before {content: \"\";position: absolute;border-left: 1px solid gray;box-sizing: border-box;top: 0;bottom: 0;left: 50%;z-index: 0;}#sk-container-id-1 div.sk-serial {display: flex;flex-direction: column;align-items: center;background-color: white;padding-right: 0.2em;padding-left: 0.2em;position: relative;}#sk-container-id-1 div.sk-item {position: relative;z-index: 1;}#sk-container-id-1 div.sk-parallel {display: flex;align-items: stretch;justify-content: center;background-color: white;position: relative;}#sk-container-id-1 div.sk-item::before, #sk-container-id-1 div.sk-parallel-item::before {content: \"\";position: absolute;border-left: 1px solid gray;box-sizing: border-box;top: 0;bottom: 0;left: 50%;z-index: -1;}#sk-container-id-1 div.sk-parallel-item {display: flex;flex-direction: column;z-index: 1;position: relative;background-color: white;}#sk-container-id-1 div.sk-parallel-item:first-child::after {align-self: flex-end;width: 50%;}#sk-container-id-1 div.sk-parallel-item:last-child::after {align-self: flex-start;width: 50%;}#sk-container-id-1 div.sk-parallel-item:only-child::after {width: 0;}#sk-container-id-1 div.sk-dashed-wrapped {border: 1px dashed gray;margin: 0 0.4em 0.5em 0.4em;box-sizing: border-box;padding-bottom: 0.4em;background-color: white;}#sk-container-id-1 div.sk-label label {font-family: monospace;font-weight: bold;display: inline-block;line-height: 1.2em;}#sk-container-id-1 div.sk-label-container {text-align: center;}#sk-container-id-1 div.sk-container {/* jupyter's `normalize.less` sets `[hidden] { display: none; }` but bootstrap.min.css set `[hidden] { display: none !important; }` so we also need the `!important` here to be able to override the default hidden behavior on the sphinx rendered scikit-learn.org. See: https://github.com/scikit-learn/scikit-learn/issues/21755 */display: inline-block !important;position: relative;}#sk-container-id-1 div.sk-text-repr-fallback {display: none;}</style><div id=\"sk-container-id-1\" class=\"sk-top-container\"><div class=\"sk-text-repr-fallback\"><pre>ColumnTransformer(remainder=&#x27;passthrough&#x27;,\n",
       "                  transformers=[(&#x27;OneHot&#x27;, OneHotEncoder(),\n",
       "                                 [0, 1, 3, 4, 6, 7])])</pre><b>In a Jupyter environment, please rerun this cell to show the HTML representation or trust the notebook. <br />On GitHub, the HTML representation is unable to render, please try loading this page with nbviewer.org.</b></div><div class=\"sk-container\" hidden><div class=\"sk-item sk-dashed-wrapped\"><div class=\"sk-label-container\"><div class=\"sk-label sk-toggleable\"><input class=\"sk-toggleable__control sk-hidden--visually\" id=\"sk-estimator-id-1\" type=\"checkbox\" ><label for=\"sk-estimator-id-1\" class=\"sk-toggleable__label sk-toggleable__label-arrow\">ColumnTransformer</label><div class=\"sk-toggleable__content\"><pre>ColumnTransformer(remainder=&#x27;passthrough&#x27;,\n",
       "                  transformers=[(&#x27;OneHot&#x27;, OneHotEncoder(),\n",
       "                                 [0, 1, 3, 4, 6, 7])])</pre></div></div></div><div class=\"sk-parallel\"><div class=\"sk-parallel-item\"><div class=\"sk-item\"><div class=\"sk-label-container\"><div class=\"sk-label sk-toggleable\"><input class=\"sk-toggleable__control sk-hidden--visually\" id=\"sk-estimator-id-2\" type=\"checkbox\" ><label for=\"sk-estimator-id-2\" class=\"sk-toggleable__label sk-toggleable__label-arrow\">OneHot</label><div class=\"sk-toggleable__content\"><pre>[0, 1, 3, 4, 6, 7]</pre></div></div></div><div class=\"sk-serial\"><div class=\"sk-item\"><div class=\"sk-estimator sk-toggleable\"><input class=\"sk-toggleable__control sk-hidden--visually\" id=\"sk-estimator-id-3\" type=\"checkbox\" ><label for=\"sk-estimator-id-3\" class=\"sk-toggleable__label sk-toggleable__label-arrow\">OneHotEncoder</label><div class=\"sk-toggleable__content\"><pre>OneHotEncoder()</pre></div></div></div></div></div></div><div class=\"sk-parallel-item\"><div class=\"sk-item\"><div class=\"sk-label-container\"><div class=\"sk-label sk-toggleable\"><input class=\"sk-toggleable__control sk-hidden--visually\" id=\"sk-estimator-id-4\" type=\"checkbox\" ><label for=\"sk-estimator-id-4\" class=\"sk-toggleable__label sk-toggleable__label-arrow\">remainder</label><div class=\"sk-toggleable__content\"><pre>[2, 5]</pre></div></div></div><div class=\"sk-serial\"><div class=\"sk-item\"><div class=\"sk-estimator sk-toggleable\"><input class=\"sk-toggleable__control sk-hidden--visually\" id=\"sk-estimator-id-5\" type=\"checkbox\" ><label for=\"sk-estimator-id-5\" class=\"sk-toggleable__label sk-toggleable__label-arrow\">passthrough</label><div class=\"sk-toggleable__content\"><pre>passthrough</pre></div></div></div></div></div></div></div></div></div></div>"
      ],
      "text/plain": [
       "ColumnTransformer(remainder='passthrough',\n",
       "                  transformers=[('OneHot', OneHotEncoder(),\n",
       "                                 [0, 1, 3, 4, 6, 7])])"
      ]
     },
     "execution_count": 74,
     "metadata": {},
     "output_type": "execute_result"
    }
   ],
   "source": [
    "onehotencoder_titanic.fit(X_test)"
   ]
  },
  {
   "cell_type": "code",
   "execution_count": 75,
   "id": "e7b401d7-33b5-4297-b612-c2dec6cfeb1c",
   "metadata": {},
   "outputs": [
    {
     "data": {
      "text/plain": [
       "((891, 8), (418, 8))"
      ]
     },
     "execution_count": 75,
     "metadata": {},
     "output_type": "execute_result"
    }
   ],
   "source": [
    "X_train.shape, X_test.shape"
   ]
  },
  {
   "cell_type": "code",
   "execution_count": 76,
   "id": "8cb2ffb0-f7d5-4e37-8071-fcd07cacc292",
   "metadata": {},
   "outputs": [
    {
     "data": {
      "text/plain": [
       "(418, 8)"
      ]
     },
     "execution_count": 76,
     "metadata": {},
     "output_type": "execute_result"
    }
   ],
   "source": [
    "X_test.shape"
   ]
  },
  {
   "cell_type": "code",
   "execution_count": 77,
   "id": "52470ab3-6cd0-4c74-86e1-bf4f4aaee0e5",
   "metadata": {},
   "outputs": [],
   "source": [
    "X_train = onehotencoder_titanic.transform(X_train).toarray()\n",
    "X_test = onehotencoder_titanic.transform(X_test).toarray()"
   ]
  },
  {
   "cell_type": "code",
   "execution_count": 78,
   "id": "5f063358-a4b8-4f38-a36e-6d43800d7b9f",
   "metadata": {},
   "outputs": [
    {
     "data": {
      "text/plain": [
       "((891, 106), (418, 106))"
      ]
     },
     "execution_count": 78,
     "metadata": {},
     "output_type": "execute_result"
    }
   ],
   "source": [
    "X_train.shape, X_test.shape"
   ]
  },
  {
   "cell_type": "code",
   "execution_count": 79,
   "id": "6a8192e7-ba3f-4abc-aef7-c2b186368b33",
   "metadata": {},
   "outputs": [],
   "source": [
    "from sklearn.preprocessing import StandardScaler\n",
    "scaler = StandardScaler()\n",
    "X_train = scaler.fit_transform(X_train)\n",
    "X_test = scaler.fit_transform(X_test)"
   ]
  },
  {
   "cell_type": "code",
   "execution_count": 80,
   "id": "247aefe5-9d10-4019-bd46-1b051c2224c1",
   "metadata": {},
   "outputs": [
    {
     "data": {
      "text/plain": [
       "(891, 106)"
      ]
     },
     "execution_count": 80,
     "metadata": {},
     "output_type": "execute_result"
    }
   ],
   "source": [
    "X_train.shape"
   ]
  },
  {
   "cell_type": "code",
   "execution_count": 81,
   "id": "f9b66d55-64bf-4ab0-a4e1-0b4f7166212c",
   "metadata": {
    "scrolled": true
   },
   "outputs": [
    {
     "data": {
      "text/plain": [
       "(418, 106)"
      ]
     },
     "execution_count": 81,
     "metadata": {},
     "output_type": "execute_result"
    }
   ],
   "source": [
    "X_test.shape"
   ]
  },
  {
   "cell_type": "code",
   "execution_count": 82,
   "id": "f4140f6c-4129-4cc2-8736-aff00b9ea4b3",
   "metadata": {},
   "outputs": [
    {
     "data": {
      "text/plain": [
       "array([[-0.56568542, -0.51015154,  0.90258736, ...,  0.61583843,\n",
       "        -0.56356674, -0.50244517],\n",
       "       [ 1.76776695, -0.51015154, -1.10792599, ..., -1.62380254,\n",
       "         0.64664267,  0.78684529],\n",
       "       [-0.56568542, -0.51015154,  0.90258736, ...,  0.61583843,\n",
       "        -0.26101439, -0.48885426],\n",
       "       ...,\n",
       "       [-0.56568542, -0.51015154,  0.90258736, ...,  0.61583843,\n",
       "        -1.48506064, -0.17626324],\n",
       "       [ 1.76776695, -0.51015154, -1.10792599, ..., -1.62380254,\n",
       "        -0.26101439, -0.04438104],\n",
       "       [-0.56568542, -0.51015154,  0.90258736, ..., -1.62380254,\n",
       "         0.19281414, -0.49237783]])"
      ]
     },
     "execution_count": 82,
     "metadata": {},
     "output_type": "execute_result"
    }
   ],
   "source": [
    "X_train"
   ]
  },
  {
   "cell_type": "code",
   "execution_count": 83,
   "id": "adbbacf9-bf54-4bd2-8cc0-4cd014b1b43b",
   "metadata": {
    "scrolled": true
   },
   "outputs": [
    {
     "data": {
      "text/plain": [
       "array([[-0.58655899, -0.5349335 ,  0.95782629, ..., -1.35067551,\n",
       "         0.33558442, -0.49731093],\n",
       "       [-0.58655899, -0.5349335 ,  0.95782629, ...,  0.74037028,\n",
       "         1.31328455, -0.5121751 ],\n",
       "       [-0.58655899,  1.86939125, -1.04403065, ..., -1.35067551,\n",
       "         2.48652471, -0.46399919],\n",
       "       ...,\n",
       "       [-0.58655899, -0.5349335 ,  0.95782629, ...,  0.74037028,\n",
       "         0.64844846, -0.50769362],\n",
       "       [-0.58655899, -0.5349335 ,  0.95782629, ...,  0.74037028,\n",
       "         0.0049333 , -0.49335289],\n",
       "       [-0.58655899, -0.5349335 ,  0.95782629, ..., -1.35067551,\n",
       "        -1.42036502, -0.23686347]])"
      ]
     },
     "execution_count": 83,
     "metadata": {},
     "output_type": "execute_result"
    }
   ],
   "source": [
    "X_test"
   ]
  },
  {
   "cell_type": "markdown",
   "id": "db732c34-e1d5-4267-9477-22eb2b09eddc",
   "metadata": {},
   "source": [
    "<h1>Exportar Dados</h1>"
   ]
  },
  {
   "cell_type": "code",
   "execution_count": 84,
   "id": "36eb1973-e9b5-463f-9f0a-dc609cfd5937",
   "metadata": {},
   "outputs": [],
   "source": [
    "with open('titanic_data.pkl','wb') as f:\n",
    "    pickle.dump([X_train, y_train, X_test],f)"
   ]
  },
  {
   "cell_type": "code",
   "execution_count": null,
   "id": "59116246-bcdf-4efb-b971-f10feee5f19a",
   "metadata": {},
   "outputs": [],
   "source": []
  }
 ],
 "metadata": {
  "kernelspec": {
   "display_name": "Python 3 (ipykernel)",
   "language": "python",
   "name": "python3"
  },
  "language_info": {
   "codemirror_mode": {
    "name": "ipython",
    "version": 3
   },
   "file_extension": ".py",
   "mimetype": "text/x-python",
   "name": "python",
   "nbconvert_exporter": "python",
   "pygments_lexer": "ipython3",
   "version": "3.11.5"
  }
 },
 "nbformat": 4,
 "nbformat_minor": 5
}
